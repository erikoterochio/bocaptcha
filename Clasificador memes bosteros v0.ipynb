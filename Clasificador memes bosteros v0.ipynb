{
 "cells": [
  {
   "cell_type": "code",
   "execution_count": 79,
   "id": "83e76c23",
   "metadata": {},
   "outputs": [],
   "source": [
    "import fastbook\n",
    "from fastbook import *\n",
    "import tweepy\n",
    "import logging\n",
    "import os\n",
    "import json\n",
    "from IPython.display import Image\n",
    "from urllib.request import urlopen\n",
    "from PIL import Image\n",
    "import time"
   ]
  },
  {
   "cell_type": "code",
   "execution_count": 90,
   "id": "7f344087",
   "metadata": {},
   "outputs": [
    {
     "data": {
      "text/plain": [
       "(#1) [Path('export.pkl')]"
      ]
     },
     "execution_count": 90,
     "metadata": {},
     "output_type": "execute_result"
    }
   ],
   "source": [
    "path = Path()\n",
    "path.ls(file_exts='.pkl')"
   ]
  },
  {
   "cell_type": "code",
   "execution_count": 81,
   "id": "0f4f0d30",
   "metadata": {},
   "outputs": [],
   "source": [
    "learn_inf = load_learner(path/'export.pkl')"
   ]
  },
  {
   "cell_type": "code",
   "execution_count": 91,
   "id": "70986b07",
   "metadata": {},
   "outputs": [],
   "source": [
    "logging.basicConfig(level=logging.INFO)\n",
    "logger = logging.getLogger()\n",
    "\n",
    "def create_api(credentials):\n",
    "    CONSUMER_KEY = credentials[0]\n",
    "    CONSUMER_SECRET = credentials[1]\n",
    "    ACCESS_TOKEN = credentials[2]\n",
    "    ACCESS_TOKEN_SECRET = credentials[3]\n",
    "    \n",
    "    auth = tweepy.OAuthHandler(CONSUMER_KEY, CONSUMER_SECRET)\n",
    "    auth.set_access_token(ACCESS_TOKEN, ACCESS_TOKEN_SECRET)\n",
    "    api = tweepy.API(auth, wait_on_rate_limit=True, \n",
    "        wait_on_rate_limit_notify=True)\n",
    "    try:\n",
    "        api.verify_credentials()\n",
    "    except Exception as e:\n",
    "        logger.error(\"Error creating API\", exc_info=True)\n",
    "        raise e\n",
    "    logger.info(\"API created\")\n",
    "    return api"
   ]
  },
  {
   "cell_type": "code",
   "execution_count": 143,
   "id": "4f8db7ca",
   "metadata": {},
   "outputs": [],
   "source": [
    "def predict_img(img):\n",
    "    if img == None:\n",
    "        return None\n",
    "    else:\n",
    "        pred,pred_idx,probs = learn_inf.predict(img)\n",
    "        if pred == \"memes\":\n",
    "            pred = \"Beep ... esa imagen es bostera ...beep... en un \"\n",
    "        else:\n",
    "            pred = \"Mmm ...beep... esa imagen no parece bostera ...beep... estoy seguro un \"\n",
    "        output = str(f'{pred}{probs[pred_idx]*100:.2f}%')\n",
    "        return output"
   ]
  },
  {
   "cell_type": "code",
   "execution_count": 142,
   "id": "bbe5cb44",
   "metadata": {},
   "outputs": [],
   "source": [
    "def check_mentions(api, since_id):\n",
    "    logger.info(\"Retrieving mentions\")\n",
    "    new_since_id = since_id\n",
    "    for tweet in tweepy.Cursor(api.mentions_timeline,since_id=since_id).items():\n",
    "        new_since_id = max(tweet.id, new_since_id)\n",
    "        if tweet.in_reply_to_status_id is not None:\n",
    "            continue\n",
    "        if \"media\" not in tweet.entities:\n",
    "            continue\n",
    "        if tweet.entities['media'][0][\"type\"] == \"photo\":\n",
    "            logger.info(f\"Answering to {tweet.user.name}\")\n",
    "            \n",
    "            # Obtengo la URL de la imagen\n",
    "            image_url = tweet.entities[\"media\"][0][\"media_url\"]\n",
    "            # Saco la imagen con PIL\n",
    "            img = PILImage.create(urlopen(image_url))\n",
    "            # Obtengo la predicción\n",
    "            status = predict_img(img)\n",
    "            \n",
    "            #Respondo al tweet\n",
    "            api.update_status(\n",
    "            status, #ACA VA LA PREDICCIÓN\n",
    "            in_reply_to_status_id=tweet.id,\n",
    "            auto_populate_reply_metadata=True\n",
    "            )\n",
    "    return new_since_id"
   ]
  },
  {
   "cell_type": "code",
   "execution_count": 144,
   "id": "f9388d27",
   "metadata": {},
   "outputs": [],
   "source": [
    "def main(credentials):\n",
    "    api = create_api(credentials)\n",
    "    since_id = 1\n",
    "    while True:\n",
    "        since_id = check_mentions(api, since_id)\n",
    "        logger.info(\"Waiting...\")\n",
    "        time.sleep(60)"
   ]
  },
  {
   "cell_type": "code",
   "execution_count": 125,
   "id": "ea1367e0",
   "metadata": {},
   "outputs": [],
   "source": [
    "#enter the corresponding information from your Twitter application management:\n",
    "CONSUMER_KEY = 'n2NtYdAVq3YTS3iPNYNroot75' #keep the quotes, replace this with your consumer key\n",
    "CONSUMER_SECRET = 'OY4KOC0Wz8lDMg4jbvBMmx6qrrmqBfXuiySK7OiiPUA1mfkN5p' #keep the quotes, replace this with your consumer secret key\n",
    "ACCESS_TOKEN = '1420207912471965700-95oUGc5eigK7sRemuBnIdAERf38ed8' #keep the quotes, replace this with your access token\n",
    "ACCESS_SECRET = 'jYOPKmzGWmdCPvMmwtpxDxezZNZBXQCbvdI5JTN2CiSqu' #keep the quotes, replace this with your access token secret\n",
    "\n",
    "credentials = [CONSUMER_KEY, CONSUMER_SECRET, ACCESS_TOKEN, ACCESS_SECRET]"
   ]
  },
  {
   "cell_type": "code",
   "execution_count": 126,
   "id": "ac6f6826",
   "metadata": {},
   "outputs": [
    {
     "name": "stderr",
     "output_type": "stream",
     "text": [
      "INFO:root:API created\n",
      "INFO:root:Retrieving mentions\n",
      "INFO:root:Answering to Erik Otero Chio\n"
     ]
    },
    {
     "data": {
      "text/html": [],
      "text/plain": [
       "<IPython.core.display.HTML object>"
      ]
     },
     "metadata": {},
     "output_type": "display_data"
    },
    {
     "name": "stderr",
     "output_type": "stream",
     "text": [
      "INFO:root:Answering to Erik Otero Chio\n"
     ]
    },
    {
     "data": {
      "text/html": [],
      "text/plain": [
       "<IPython.core.display.HTML object>"
      ]
     },
     "metadata": {},
     "output_type": "display_data"
    },
    {
     "name": "stderr",
     "output_type": "stream",
     "text": [
      "INFO:root:Answering to Erik Otero Chio\n"
     ]
    },
    {
     "data": {
      "text/html": [],
      "text/plain": [
       "<IPython.core.display.HTML object>"
      ]
     },
     "metadata": {},
     "output_type": "display_data"
    },
    {
     "name": "stderr",
     "output_type": "stream",
     "text": [
      "INFO:root:Waiting...\n",
      "INFO:root:Retrieving mentions\n",
      "INFO:root:Waiting...\n"
     ]
    },
    {
     "ename": "KeyboardInterrupt",
     "evalue": "",
     "output_type": "error",
     "traceback": [
      "\u001b[1;31m---------------------------------------------------------------------------\u001b[0m",
      "\u001b[1;31mKeyboardInterrupt\u001b[0m                         Traceback (most recent call last)",
      "\u001b[1;32m<ipython-input-126-646ba237ca0c>\u001b[0m in \u001b[0;36m<module>\u001b[1;34m\u001b[0m\n\u001b[0;32m      1\u001b[0m \u001b[1;32mif\u001b[0m \u001b[0m__name__\u001b[0m \u001b[1;33m==\u001b[0m \u001b[1;34m\"__main__\"\u001b[0m\u001b[1;33m:\u001b[0m\u001b[1;33m\u001b[0m\u001b[1;33m\u001b[0m\u001b[0m\n\u001b[1;32m----> 2\u001b[1;33m     \u001b[0mmain\u001b[0m\u001b[1;33m(\u001b[0m\u001b[0mcredentials\u001b[0m\u001b[1;33m)\u001b[0m\u001b[1;33m\u001b[0m\u001b[1;33m\u001b[0m\u001b[0m\n\u001b[0m",
      "\u001b[1;32m<ipython-input-124-ce9603acc2b3>\u001b[0m in \u001b[0;36mmain\u001b[1;34m(credentials)\u001b[0m\n\u001b[0;32m      5\u001b[0m         \u001b[0msince_id\u001b[0m \u001b[1;33m=\u001b[0m \u001b[0mcheck_mentions\u001b[0m\u001b[1;33m(\u001b[0m\u001b[0mapi\u001b[0m\u001b[1;33m,\u001b[0m \u001b[0msince_id\u001b[0m\u001b[1;33m)\u001b[0m\u001b[1;33m\u001b[0m\u001b[1;33m\u001b[0m\u001b[0m\n\u001b[0;32m      6\u001b[0m         \u001b[0mlogger\u001b[0m\u001b[1;33m.\u001b[0m\u001b[0minfo\u001b[0m\u001b[1;33m(\u001b[0m\u001b[1;34m\"Waiting...\"\u001b[0m\u001b[1;33m)\u001b[0m\u001b[1;33m\u001b[0m\u001b[1;33m\u001b[0m\u001b[0m\n\u001b[1;32m----> 7\u001b[1;33m         \u001b[0mtime\u001b[0m\u001b[1;33m.\u001b[0m\u001b[0msleep\u001b[0m\u001b[1;33m(\u001b[0m\u001b[1;36m30\u001b[0m\u001b[1;33m)\u001b[0m\u001b[1;33m\u001b[0m\u001b[1;33m\u001b[0m\u001b[0m\n\u001b[0m",
      "\u001b[1;31mKeyboardInterrupt\u001b[0m: "
     ]
    }
   ],
   "source": [
    "if __name__ == \"__main__\":\n",
    "    main(credentials)"
   ]
  },
  {
   "cell_type": "code",
   "execution_count": 139,
   "id": "30c91408",
   "metadata": {},
   "outputs": [
    {
     "data": {
      "text/html": [],
      "text/plain": [
       "<IPython.core.display.HTML object>"
      ]
     },
     "metadata": {},
     "output_type": "display_data"
    },
    {
     "name": "stdout",
     "output_type": "stream",
     "text": [
      "Beep ... ese meme es bostero ...beep... en un 99.47%\n"
     ]
    }
   ],
   "source": [
    "# Obtengo la URL de la imagen\n",
    "image_url = \"https://pbs.twimg.com/media/E8KPoGRWQAIFi0f?format=jpg&name=small\"\n",
    "# Saco la imagen con PIL\n",
    "img = PILImage.create(urlopen(image_url))\n",
    "\n",
    "if img == None:\n",
    "    print(None)\n",
    "else:\n",
    "    pred,pred_idx,probs = learn_inf.predict(img)\n",
    "    if pred == \"memes\":\n",
    "        pred = \"Beep ... ese meme es bostero ...beep... en un \"\n",
    "    else:\n",
    "        pred = \"Mmm ...beep... ese meme no parece bostero ...beep... estoy seguro un \"\n",
    "    output = str(f'{pred}{probs[pred_idx]*100:.2f}%')\n",
    "    print(output)"
   ]
  },
  {
   "cell_type": "code",
   "execution_count": null,
   "id": "5fc61b8f",
   "metadata": {},
   "outputs": [],
   "source": []
  }
 ],
 "metadata": {
  "kernelspec": {
   "display_name": "Python 3",
   "language": "python",
   "name": "python3"
  },
  "language_info": {
   "codemirror_mode": {
    "name": "ipython",
    "version": 3
   },
   "file_extension": ".py",
   "mimetype": "text/x-python",
   "name": "python",
   "nbconvert_exporter": "python",
   "pygments_lexer": "ipython3",
   "version": "3.8.8"
  }
 },
 "nbformat": 4,
 "nbformat_minor": 5
}
